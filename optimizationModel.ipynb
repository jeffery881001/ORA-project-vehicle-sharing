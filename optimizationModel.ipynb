{
 "cells": [
  {
   "cell_type": "code",
   "execution_count": 2,
   "id": "3c9f92db",
   "metadata": {},
   "outputs": [],
   "source": [
    "import pandas as pd\n",
    "from datetime import datetime\n",
    "from gurobipy import *\n",
    "import numpy as np\n",
    "import time"
   ]
  },
  {
   "cell_type": "code",
   "execution_count": 3,
   "id": "5e726aa0",
   "metadata": {},
   "outputs": [],
   "source": [
    "df = pd.read_excel('./yellow_tripdata_130101.xlsx')"
   ]
  },
  {
   "cell_type": "code",
   "execution_count": 4,
   "id": "2e5298ca",
   "metadata": {},
   "outputs": [
    {
     "data": {
      "text/html": [
       "<div>\n",
       "<style scoped>\n",
       "    .dataframe tbody tr th:only-of-type {\n",
       "        vertical-align: middle;\n",
       "    }\n",
       "\n",
       "    .dataframe tbody tr th {\n",
       "        vertical-align: top;\n",
       "    }\n",
       "\n",
       "    .dataframe thead th {\n",
       "        text-align: right;\n",
       "    }\n",
       "</style>\n",
       "<table border=\"1\" class=\"dataframe\">\n",
       "  <thead>\n",
       "    <tr style=\"text-align: right;\">\n",
       "      <th></th>\n",
       "      <th>tpep_pickup_datetime</th>\n",
       "      <th>tpep_dropoff_datetime</th>\n",
       "      <th>trip_distance</th>\n",
       "      <th>PULocationID</th>\n",
       "      <th>DOLocationID</th>\n",
       "    </tr>\n",
       "  </thead>\n",
       "  <tbody>\n",
       "    <tr>\n",
       "      <th>0</th>\n",
       "      <td>2013-01-01 00:00:00</td>\n",
       "      <td>2013-01-01 00:04:00</td>\n",
       "      <td>1.71</td>\n",
       "      <td>236</td>\n",
       "      <td>162</td>\n",
       "    </tr>\n",
       "    <tr>\n",
       "      <th>1</th>\n",
       "      <td>2013-01-01 00:00:00</td>\n",
       "      <td>2013-01-01 00:19:00</td>\n",
       "      <td>8.48</td>\n",
       "      <td>162</td>\n",
       "      <td>244</td>\n",
       "    </tr>\n",
       "    <tr>\n",
       "      <th>2</th>\n",
       "      <td>2013-01-01 00:00:00</td>\n",
       "      <td>2013-01-01 00:11:00</td>\n",
       "      <td>9.35</td>\n",
       "      <td>138</td>\n",
       "      <td>216</td>\n",
       "    </tr>\n",
       "    <tr>\n",
       "      <th>3</th>\n",
       "      <td>2013-01-01 00:00:00</td>\n",
       "      <td>2013-01-01 00:15:00</td>\n",
       "      <td>2.56</td>\n",
       "      <td>144</td>\n",
       "      <td>170</td>\n",
       "    </tr>\n",
       "    <tr>\n",
       "      <th>4</th>\n",
       "      <td>2013-01-01 00:00:00</td>\n",
       "      <td>2013-01-01 00:16:00</td>\n",
       "      <td>4.05</td>\n",
       "      <td>249</td>\n",
       "      <td>239</td>\n",
       "    </tr>\n",
       "  </tbody>\n",
       "</table>\n",
       "</div>"
      ],
      "text/plain": [
       "  tpep_pickup_datetime tpep_dropoff_datetime  trip_distance  PULocationID  \\\n",
       "0  2013-01-01 00:00:00   2013-01-01 00:04:00           1.71           236   \n",
       "1  2013-01-01 00:00:00   2013-01-01 00:19:00           8.48           162   \n",
       "2  2013-01-01 00:00:00   2013-01-01 00:11:00           9.35           138   \n",
       "3  2013-01-01 00:00:00   2013-01-01 00:15:00           2.56           144   \n",
       "4  2013-01-01 00:00:00   2013-01-01 00:16:00           4.05           249   \n",
       "\n",
       "   DOLocationID  \n",
       "0           162  \n",
       "1           244  \n",
       "2           216  \n",
       "3           170  \n",
       "4           239  "
      ]
     },
     "execution_count": 4,
     "metadata": {},
     "output_type": "execute_result"
    }
   ],
   "source": [
    "df.head()"
   ]
  },
  {
   "cell_type": "code",
   "execution_count": 5,
   "id": "d06bebd3",
   "metadata": {},
   "outputs": [],
   "source": [
    "df['trip_distance'] = pd.to_numeric(df['trip_distance'], errors = 'coerce')\n",
    "avg_distance_df = df.groupby(['PULocationID', 'DOLocationID'])['trip_distance'].mean().reset_index()\n",
    "avg_distance_dict = {(row['PULocationID'], row['DOLocationID']): row['trip_distance'] for _, row in avg_distance_df.iterrows()}"
   ]
  },
  {
   "cell_type": "code",
   "execution_count": 6,
   "id": "a08e2a3e",
   "metadata": {},
   "outputs": [],
   "source": [
    "## num: total number of demand\n",
    "## c: objective function cost\n",
    "## x: decision variable\n",
    "def sol_pro(c, F, pick_up_time, deliver_time, travel_dist, relocation_time, buffer_time=99999, print_info=False): #, actual_dist, time_buffer, dist_buffer):\n",
    "    # construct matrix m (reachable demand)\n",
    "    num=len(pick_up_time)\n",
    "    m_mat=np.zeros((2*num+2, 2*num+2),dtype=int)\n",
    "    m_mat[0:num,num:2*num]=np.eye(num, dtype=int)\n",
    "    m_mat[num:2*num,0:num]=1-np.identity(num)\n",
    "    m_mat[num:2*num,2*num+1]=1\n",
    "    m_mat[2*num,0:num]=1\n",
    "    m_mat[2*num,2*num+1]=F\n",
    "    ## relocation time \n",
    "    #relocation_time=np.zeros((num,num))\n",
    "    #delta=np.zeros((num,num))\n",
    "    #eta=np.zeros((num,num))\n",
    "    #relocation_dist=np.zeros((num,num))\n",
    "    ## relocation time check\n",
    "    for i in range(num):\n",
    "        for j in range(num):\n",
    "            if i==j:\n",
    "                continue;\n",
    "    #        eta[i,j]=0.5*(travel_dist[i]/actual_dist[i,num+i]+travel_dist[j]/actual_dist[j,num+j])\n",
    "    #        relocation_dist[i,j]=actual_dist[num+i,j]*eta[i,j]\n",
    "    #        delta[i,j]=0.5*((deliver_time[i]-pick_up_time[i])/travel_dist[i]+(deliver_time[j]-pick_up_time[j])/travel_dist[j])\n",
    "    #        relocation_time[i,j]=relocation_dist[i,j]*delta[i,j]\n",
    "            if((pick_up_time[j] - deliver_time[i]).total_seconds()<relocation_time[i,j]):\n",
    "                m_mat[num+i,j]=0\n",
    "    #       if(relocation_time>buffer_time):\n",
    "    #           m_mat[num+i,num+j]=0\n",
    "    #        if(relocation_dist>dist_buffer):\n",
    "    #            m_mat[num+i,num+j]=0\n",
    "    \n",
    "    ##model 1\n",
    "    model_1 = Model(\"lp_model\")\n",
    "    model_1.Params.LogToConsole = 0\n",
    "    x = model_1.addMVar((2*num+2,2*num+2), lb=0, vtype = GRB.CONTINUOUS, name = \"x\")\n",
    "    model_1.update()\n",
    "    \n",
    "    ## set objective functions\n",
    "    model_1.setObjective(quicksum(c[i, j]*x[i][j] for i in range(2*num+2) for j in range(2*num+2))\n",
    "                         , GRB.MINIMIZE)\n",
    "    \n",
    "    ## constraint\n",
    "    model_1.addConstrs((x[i][j]<=m_mat[i,j] for i in range(2*num+2) for j in range(2*num+2)), \"Link capacity constraint\")\n",
    "    model_1.addConstrs((quicksum(x[j][i] for j in range(2*num+2)) - quicksum(x[i][j] for j in range(2*num+2)) == 0 for i in range(2*num)), \"balance_1\")\n",
    "    model_1.addConstr((quicksum(x[2*num][j] for j in [i for i in range(2*num+2) if i != 2*num]) - F == 0), \"balance_2\")\n",
    "    model_1.addConstr((quicksum(x[j][2*num+1] for j in range(2*num+1)) - F == 0), \"balance_3\")\n",
    "#     model_1.addConstr(x[22, 0] == 1, \"test\")\n",
    "\n",
    "    ###\n",
    "    ## solve and result\n",
    "    model_1.optimize()\n",
    "    ## solution for decision variables\n",
    "    # print(x)\n",
    "    # print(x[0:num, num:2*num])\n",
    "    ## solution for objective values\n",
    "    # print('Obj: %g' % model_1.objVal)\n",
    "    # print('objective value =', model_1.objVal)\n",
    "    if print_info:\n",
    "        for var in model_1.getVars():\n",
    "            if var.x >= 1:\n",
    "                print(var.varName, '=', var.x)\n",
    "\n",
    "    ## get every car chain\n",
    "    t_value=[]\n",
    "    for var in model_1.getVars():\n",
    "        t_value.append(var.x)\n",
    "    chain=[]\n",
    "    ## collect how many car need to use and the first state for each car \n",
    "    for i in range((2*num+2)*2*num, (2*num+2)*2*num+num):\n",
    "        if t_value[i]==1:\n",
    "            temp=[]\n",
    "            temp.append(i-(2*num+2)*2*num+1)\n",
    "            chain.append(temp)\n",
    "    ## use for finish all chain\n",
    "    for i in range(len(chain)):\n",
    "        temp=chain[i][0]\n",
    "        next_place=-1\n",
    "        while next_place!='d':\n",
    "            for j in range((num-1+temp)*(2*num+2), (num-1+temp)*(2*num+2)+num):\n",
    "                if t_value[j]==1:\n",
    "                    next_place=j-(num-1+temp)*(2*num+2)+1\n",
    "            if t_value[(num+temp)*(2*num+2)-1]==1:\n",
    "                next_place='d'\n",
    "            chain[i].append(next_place)\n",
    "            temp=next_place\n",
    "    return chain, model_1.objVal"
   ]
  },
  {
   "cell_type": "code",
   "execution_count": 38,
   "id": "424c99d2-ab29-4111-82c7-20324224f75d",
   "metadata": {},
   "outputs": [],
   "source": [
    "def add_ord(current_chain, new_pick_up_time, new_deliver_time, pick_up_time, deliver_time, s_loc, e_loc, new_s_loc, new_e_loc, dist_dict, relocataion_time ,relocation_cost, fc, dc, current_obj, rev_loss):\n",
    "    min_cost=fc+dc+dc\n",
    "    pick_chain=\"new_chain\"\n",
    "    loc=\"new\"\n",
    "    for i in range(len(current_chain)):\n",
    "        for j in range(len(current_chain[i])):\n",
    "            ## new deliver is earlier than first pick_up ## should consider relocation time\n",
    "            if j==0:\n",
    "                if (new_e_loc, s_loc[current_chain[i][j]-1]) in dist_dict:\n",
    "                    temp_dist=dist_dict[new_e_loc, s_loc[current_chain[i][j]-1]]\n",
    "                    temp_time=temp_dist*relocation_cost\n",
    "                    if (pick_up_time[current_chain[i][j]-1] - new_deliver_time).total_seconds() >= temp_time:\n",
    "                        r_cost = temp_dist * relocation_cost\n",
    "                    else:\n",
    "                        r_cost = 99999 * relocation_cost\n",
    "                else:\n",
    "                    r_cost = 99999 * relocation_cost\n",
    "                if r_cost<=min_cost:\n",
    "                    min_cost=r_cost\n",
    "                    pick_chain=i\n",
    "                    loc=j\n",
    "            ## new pick up is later than last delivery time ## should consider relocation time\n",
    "            elif j==len(current_chain[i])-1:\n",
    "                if (e_loc[current_chain[i][j-1]-1], new_s_loc) in dist_dict:\n",
    "                    temp_dist=dist_dict[e_loc[current_chain[i][j-1]-1], new_s_loc]\n",
    "                    temp_time=temp_dist*relocation_cost\n",
    "                    if (new_pick_up_time - deliver_time[current_chain[i][j-1]-1]).total_seconds() >= temp_time:\n",
    "                        r_cost = temp_dist * relocation_cost\n",
    "                    else:\n",
    "                        r_cost = 99999 * relocation_cost\n",
    "                else:\n",
    "                    r_cost = 99999 * relocation_cost\n",
    "                if r_cost<=min_cost:\n",
    "                    min_cost=r_cost\n",
    "                    pick_chain=i\n",
    "                    loc=j\n",
    "            ## new delivery is earlier than next pickup and new pick up is later than previous \n",
    "            elif (j!=0) & (j<len(current_chain[i])-1):\n",
    "                if ((new_e_loc, s_loc[current_chain[i][j]-1]) in dist_dict) & ((e_loc[current_chain[i][j-1]-1], new_s_loc) in dist_dict):\n",
    "                    s_temp_dist = dist_dict[e_loc[current_chain[i][j-1]-1], new_s_loc]\n",
    "                    e_temp_dist = dist_dict[new_e_loc, s_loc[current_chain[i][j]-1]]\n",
    "                    s_temp_time=s_temp_dist*relocation_cost\n",
    "                    e_temp_time=e_temp_dist*relocation_cost\n",
    "                    if ((pick_up_time[current_chain[i][j]-1]- new_deliver_time).total_seconds() >= e_temp_time) & ((new_pick_up_time - deliver_time[current_chain[i][j-1]-1]).total_seconds() >= s_temp_time):\n",
    "                        r_cost = (e_temp_dist+s_temp_dist) * relocation_cost\n",
    "                    else: \n",
    "                        r_cost = 99999 * relocation_cost *2\n",
    "                else:\n",
    "                    r_cost = 99999 * relocation_cost *2\n",
    "                if r_cost<=min_cost:\n",
    "                    min_cost=r_cost\n",
    "                    pick_chain=i\n",
    "                    loc=j\n",
    "    if pick_chain==\"new_chain\" or loc==0 or loc==(len(current_chain[pick_chain])-1):\n",
    "        current_obj = current_obj + min_cost - rev_loss\n",
    "    else:\n",
    "        current_obj = current_obj + min_cost - dist_dict[e_loc[current_chain[pick_chain][loc-1]-1], s_loc[current_chain[pick_chain][loc]-1]] * relocation_cost - rev_loss\n",
    "    return pick_chain, loc, min_cost, current_obj"
   ]
  },
  {
   "cell_type": "code",
   "execution_count": 8,
   "id": "e9abbd3c-497c-4317-8b78-911af8c39430",
   "metadata": {},
   "outputs": [],
   "source": [
    "def get_all_info(n, fleet_cost, dispatch_cost, s_loc, e_loc, rev_loss, relocation_cost):\n",
    "    # =====\n",
    "    MY_LARGE_NUM = 99999\n",
    "    \n",
    "    O_ID = 2 * n\n",
    "    D_ID = 2 * n + 1\n",
    "    node_set = range(2 * n + 2)\n",
    "    \n",
    "    d = {i: dispatch_cost for i in range(n)}\n",
    "    c = {(i, j): MY_LARGE_NUM for i in node_set for j in node_set}\n",
    "    relocation_time = {(i, j): MY_LARGE_NUM for i in range(n) for j in range(n)}\n",
    "    \n",
    "    for i in node_set:\n",
    "        for j in node_set:\n",
    "            if i == O_ID and j == D_ID:\n",
    "                c[i, j] = 0\n",
    "\n",
    "            elif i == O_ID:\n",
    "                if j < n:\n",
    "                    c[i, j] = fleet_cost + d[j]\n",
    "\n",
    "            elif j == D_ID:\n",
    "                if n <= i < 2 * n:\n",
    "                    c[i, j] = d[i % n]\n",
    "\n",
    "            elif i < n:\n",
    "                c[i, n + i] = -rev_loss[i]\n",
    "\n",
    "            elif j < n:  # now i >= n, indicating i^+\n",
    "                e_ = e_loc[i % n]  # ending location of order i\n",
    "                s_ = s_loc[j]      # starting location of order j\n",
    "                if (e_, s_) in avg_distance_dict:\n",
    "                    c[i, j] = avg_distance_dict[e_, s_] * relocation_cost\n",
    "                    relocation_time[i % n, j] = avg_distance_dict[e_, s_] * 30\n",
    "    \n",
    "    return c, relocation_time"
   ]
  },
  {
   "cell_type": "code",
   "execution_count": 9,
   "id": "5e28edd3-9fb5-4b4c-9c2a-8c9ac95e83ef",
   "metadata": {},
   "outputs": [],
   "source": [
    "def get_basic_info(sampled_df):\n",
    "    n = len(sampled_df)\n",
    "    s_time = dict(zip(range(n), sampled_df['tpep_pickup_datetime']))\n",
    "    e_time = dict(zip(range(n), sampled_df['tpep_dropoff_datetime']))\n",
    "    s_loc = dict(zip(range(n), sampled_df['PULocationID']))\n",
    "    e_loc = dict(zip(range(n), sampled_df['DOLocationID']))\n",
    "    rev_loss = dict(zip(range(n), sampled_df['rev_loss']))\n",
    "    \n",
    "    return s_time, e_time, s_loc, e_loc, rev_loss"
   ]
  },
  {
   "cell_type": "code",
   "execution_count": 10,
   "id": "857cc631",
   "metadata": {},
   "outputs": [],
   "source": [
    "def generate_an_instance(n, unit_rev_loss, fleet_cost, dispatch_cost, relocation_cost):\n",
    "    # n: number of orders to sample\n",
    "    # seed = 1001\n",
    "    # sampled_df = df.sample(n = n, random_state = seed)\n",
    "    sampled_df = df.sample(n = n)\n",
    "\n",
    "    sampled_df['tpep_pickup_datetime'] = pd.to_datetime(sampled_df['tpep_pickup_datetime'], format = '%Y-%m-%d %H:%M:%S', errors = 'coerce')\n",
    "    sampled_df['tpep_dropoff_datetime'] = pd.to_datetime(sampled_df['tpep_dropoff_datetime'], format = '%Y-%m-%d %H:%M:%S', errors = 'coerce')\n",
    "    sampled_df['rev_loss'] = sampled_df['trip_distance'] * unit_rev_loss\n",
    "    sampled_df = sampled_df.reset_index(drop = True)\n",
    "\n",
    "    s_time, e_time, s_loc, e_loc, rev_loss = get_basic_info(sampled_df)\n",
    "    c, relocation_time = get_all_info(n, fleet_cost, dispatch_cost, s_loc, e_loc, rev_loss, relocation_cost)\n",
    "    \n",
    "    return c, s_time, e_time, relocation_time, sampled_df"
   ]
  },
  {
   "cell_type": "code",
   "execution_count": 11,
   "id": "d170076b-83e9-4772-a8bf-bc4f1091ba95",
   "metadata": {},
   "outputs": [],
   "source": [
    "def generate_a_random_order(unit_rev_loss):\n",
    "    sampled_df = df.sample(n = 1)\n",
    "\n",
    "    sampled_df['tpep_pickup_datetime'] = pd.to_datetime(sampled_df['tpep_pickup_datetime'], format = '%Y-%m-%d %H:%M:%S', errors = 'coerce')\n",
    "    sampled_df['tpep_dropoff_datetime'] = pd.to_datetime(sampled_df['tpep_dropoff_datetime'], format = '%Y-%m-%d %H:%M:%S', errors = 'coerce')\n",
    "    sampled_df['rev_loss'] = sampled_df['trip_distance'] * unit_rev_loss\n",
    "    sampled_df = sampled_df.reset_index(drop = True)\n",
    "    \n",
    "    return sampled_df"
   ]
  },
  {
   "cell_type": "code",
   "execution_count": 12,
   "id": "65e42617-048d-424a-a3bd-e59016b2b91d",
   "metadata": {},
   "outputs": [],
   "source": [
    "def evaluate(chain, c, n):\n",
    "    O_ID = 2 * n\n",
    "    D_ID = 2 * n + 1\n",
    "    \n",
    "    cost = 0\n",
    "    for ch in chain:\n",
    "        cost += c[O_ID, ch[0] - 1]\n",
    "        for i in range(len(ch) - 1):\n",
    "             cost += c[ch[i] - 1, ch[i] - 1 + n]\n",
    "             if ch[i + 1] != 'd':\n",
    "                 cost += c[ch[i] - 1 + n, ch[i + 1] - 1]\n",
    "             else:\n",
    "                 cost += c[ch[i] - 1 + n, D_ID]\n",
    "    return cost"
   ]
  },
  {
   "cell_type": "code",
   "execution_count": 45,
   "id": "a8295e0f",
   "metadata": {},
   "outputs": [],
   "source": [
    "def phase_1_sampling(order_cnt, iter_time):\n",
    "    # parameters\n",
    "    pi = 100  # unit revenue losss\n",
    "    fc = 100  # fleet_cost\n",
    "    dc = 30  # dispatch_cost\n",
    "    rc = 5  # relocation_cost\n",
    "    max_buffer = 99999\n",
    "    F = 10000\n",
    "    temp_c=[]\n",
    "    temp_relocation_time=[]\n",
    "    temp_df_sampled =[]\n",
    "    temp_chain=[]\n",
    "    temp_cost=[]\n",
    "    temp_alg_time=[]\n",
    "\n",
    "    for i in range(iter_time):\n",
    "        c, pick_up_time, deliver_time, relocation_time, df_sampled =\\\n",
    "            generate_an_instance(n = order_cnt, unit_rev_loss = pi, fleet_cost = fc, dispatch_cost = dc, relocation_cost = rc)\n",
    "        s_t = time.time()\n",
    "        chain, cur_cost = sol_pro(c, F, pick_up_time, deliver_time, avg_distance_dict, relocation_time, max_buffer)\n",
    "        e_t = time.time()\n",
    "        alg_time = e_t - s_t\n",
    "        temp_c.append(c)\n",
    "        temp_relocation_time.append(relocation_time)\n",
    "        temp_df_sampled.append(df_sampled)\n",
    "        temp_chain.append(chain)\n",
    "        temp_cost.append(cur_cost)\n",
    "        temp_alg_time.append(alg_time)\n",
    "\n",
    "    return temp_c, temp_relocation_time, temp_df_sampled, temp_chain, temp_cost, temp_alg_time\n"
   ]
  },
  {
   "cell_type": "code",
   "execution_count": 46,
   "id": "be8c6dee",
   "metadata": {},
   "outputs": [],
   "source": [
    "def run_an_experiment(order_cnt, random_order_cnt, c, relocation_time, df_sampled, chain, cur_cost, alg_time):    \n",
    "    # parameters\n",
    "    pi = 100  # unit revenue losss\n",
    "    fc = 100  # fleet_cost\n",
    "    dc = 30  # dispatch_cost\n",
    "    rc = 5  # relocation_cost\n",
    "    max_buffer = 99999\n",
    "    #total_cnt = order_cnt + random_order_cnt\n",
    "    \n",
    "    # phase 1\n",
    "    # ==========\n",
    "    F = 10000\n",
    "    #c, pick_up_time, deliver_time, relocation_time, df_sampled =\\\n",
    "    #    generate_an_instance(n = order_cnt, unit_rev_loss = pi, fleet_cost = fc, dispatch_cost = dc, relocation_cost = rc)\n",
    "    #s_t = time.time()\n",
    "    #chain, cur_cost = sol_pro(c, F, pick_up_time, deliver_time, avg_distance_dict, relocation_time, max_buffer)\n",
    "    #e_t = time.time()\n",
    "    #alg_time = e_t - s_t\n",
    "    # ==========\n",
    "    \n",
    "    # phase 2\n",
    "    # ==========\n",
    "    for i in range(random_order_cnt):\n",
    "        df_random_order = generate_a_random_order(unit_rev_loss = pi)\n",
    "        df_sampled.loc[len(df_sampled)] = df_random_order.loc[0]\n",
    "        df_sampled = df_sampled.reset_index(drop = True)\n",
    "        s_time, e_time, s_loc, e_loc, rev_loss = get_basic_info(df_sampled)\n",
    "        \n",
    "        s_t = time.time()\n",
    "        pick_chain, pos, min_cost, cur_cost =\\\n",
    "            add_ord(chain, \n",
    "                    df_random_order.loc[0, 'tpep_pickup_datetime'], df_random_order.loc[0, 'tpep_dropoff_datetime'], \n",
    "                    s_time, e_time, s_loc, e_loc,\n",
    "                    df_random_order.loc[0, 'PULocationID'], df_random_order.loc[0, 'DOLocationID'], \n",
    "                    avg_distance_dict, relocation_time, rc, fc, dc, cur_cost, df_random_order.loc[0, 'rev_loss'])\n",
    "        e_t = time.time()\n",
    "        alg_time += e_t - s_t\n",
    "        \n",
    "        if pick_chain != 'new_chain':\n",
    "            chain[pick_chain].insert(pos, order_cnt + i + 1)\n",
    "        else:\n",
    "            chain.append([order_cnt + i + 1, 'd'])\n",
    "    # ==========\n",
    "    \n",
    "    # optimal solution\n",
    "    # ==========\n",
    "    s_time, e_time, s_loc, e_loc, rev_loss = get_basic_info(df_sampled)\n",
    "    c, relocation_time = get_all_info(len(df_sampled), fc, dc, s_loc, e_loc, rev_loss, rc)\n",
    "    s_t = time.time()\n",
    "    opt_chain, opt_cost = sol_pro(c, F, s_time, e_time, avg_distance_dict, relocation_time, max_buffer)\n",
    "    e_t = time.time()\n",
    "    opt_time = e_t - s_t\n",
    "    # ==========\n",
    "    if cur_cost<opt_cost:\n",
    "        print(df_sampled)\n",
    "        print(chain)\n",
    "        print(opt_chain)\n",
    "        print(cur_cost, opt_cost)\n",
    "    # print(f'ALG: cost = {evaluate(chain, c, total_cnt)}, chain = {chain}')\n",
    "    # print(f'OPT: cost = {evaluate(opt_chain, c, total_cnt)}, chain = {opt_chain}')\n",
    "\n",
    "    return cur_cost, opt_cost, alg_time, opt_time, c, relocation_time, df_sampled, chain, cur_cost, alg_time"
   ]
  },
  {
   "cell_type": "code",
   "execution_count": 61,
   "id": "22286b6b",
   "metadata": {},
   "outputs": [
    {
     "name": "stdout",
     "output_type": "stream",
     "text": [
      "3.281036138534546\n"
     ]
    }
   ],
   "source": [
    "pi = 100  # unit revenue losss\n",
    "fc = 100  # fleet_cost\n",
    "dc = 30  # dispatch_cost\n",
    "rc = 5  # relocation_cost\n",
    "max_buffer = 99999\n",
    "F = 10000\n",
    "\n",
    "s_time, e_time, s_loc, e_loc, rev_loss = get_basic_info(exp_df_sampled[9])\n",
    "c, relocation_time = get_all_info(len(exp_df_sampled[9]), fc, dc, s_loc, e_loc, rev_loss, rc)\n",
    "s_t = time.time()\n",
    "opt_chain, opt_cost = sol_pro(c, F, s_time, e_time, avg_distance_dict, relocation_time, max_buffer)\n",
    "e_t = time.time()\n",
    "opt_time = e_t - s_t\n",
    "print(opt_time)"
   ]
  },
  {
   "cell_type": "code",
   "execution_count": 63,
   "id": "d624bf21",
   "metadata": {},
   "outputs": [
    {
     "name": "stdout",
     "output_type": "stream",
     "text": [
      "0 100 100\n"
     ]
    },
    {
     "name": "stderr",
     "output_type": "stream",
     "text": [
      "/var/folders/68/t3g8pbgd4f56sf_dcgl_pc140000gn/T/ipykernel_34880/1126366453.py:28: UserWarning: Pandas requires version '1.4.3' or newer of 'xlsxwriter' (version '1.3.8' currently installed).\n",
      "  result_df.to_excel('./testt.xlsx', index = False)\n"
     ]
    },
    {
     "name": "stdout",
     "output_type": "stream",
     "text": [
      "1 100 100\n"
     ]
    },
    {
     "name": "stderr",
     "output_type": "stream",
     "text": [
      "/var/folders/68/t3g8pbgd4f56sf_dcgl_pc140000gn/T/ipykernel_34880/1126366453.py:28: UserWarning: Pandas requires version '1.4.3' or newer of 'xlsxwriter' (version '1.3.8' currently installed).\n",
      "  result_df.to_excel('./testt.xlsx', index = False)\n"
     ]
    },
    {
     "name": "stdout",
     "output_type": "stream",
     "text": [
      "2 100 100\n"
     ]
    },
    {
     "name": "stderr",
     "output_type": "stream",
     "text": [
      "/var/folders/68/t3g8pbgd4f56sf_dcgl_pc140000gn/T/ipykernel_34880/1126366453.py:28: UserWarning: Pandas requires version '1.4.3' or newer of 'xlsxwriter' (version '1.3.8' currently installed).\n",
      "  result_df.to_excel('./testt.xlsx', index = False)\n"
     ]
    },
    {
     "name": "stdout",
     "output_type": "stream",
     "text": [
      "0 200 100\n",
      "215 48\n"
     ]
    },
    {
     "name": "stderr",
     "output_type": "stream",
     "text": [
      "/var/folders/68/t3g8pbgd4f56sf_dcgl_pc140000gn/T/ipykernel_34880/1126366453.py:28: UserWarning: Pandas requires version '1.4.3' or newer of 'xlsxwriter' (version '1.3.8' currently installed).\n",
      "  result_df.to_excel('./testt.xlsx', index = False)\n"
     ]
    },
    {
     "name": "stdout",
     "output_type": "stream",
     "text": [
      "1 200 100\n"
     ]
    },
    {
     "name": "stderr",
     "output_type": "stream",
     "text": [
      "/var/folders/68/t3g8pbgd4f56sf_dcgl_pc140000gn/T/ipykernel_34880/1126366453.py:28: UserWarning: Pandas requires version '1.4.3' or newer of 'xlsxwriter' (version '1.3.8' currently installed).\n",
      "  result_df.to_excel('./testt.xlsx', index = False)\n"
     ]
    },
    {
     "name": "stdout",
     "output_type": "stream",
     "text": [
      "2 200 100\n"
     ]
    },
    {
     "name": "stderr",
     "output_type": "stream",
     "text": [
      "/var/folders/68/t3g8pbgd4f56sf_dcgl_pc140000gn/T/ipykernel_34880/1126366453.py:28: UserWarning: Pandas requires version '1.4.3' or newer of 'xlsxwriter' (version '1.3.8' currently installed).\n",
      "  result_df.to_excel('./testt.xlsx', index = False)\n"
     ]
    },
    {
     "name": "stdout",
     "output_type": "stream",
     "text": [
      "0 300 100\n"
     ]
    },
    {
     "name": "stderr",
     "output_type": "stream",
     "text": [
      "/var/folders/68/t3g8pbgd4f56sf_dcgl_pc140000gn/T/ipykernel_34880/1126366453.py:28: UserWarning: Pandas requires version '1.4.3' or newer of 'xlsxwriter' (version '1.3.8' currently installed).\n",
      "  result_df.to_excel('./testt.xlsx', index = False)\n"
     ]
    },
    {
     "name": "stdout",
     "output_type": "stream",
     "text": [
      "1 300 100\n"
     ]
    },
    {
     "name": "stderr",
     "output_type": "stream",
     "text": [
      "/var/folders/68/t3g8pbgd4f56sf_dcgl_pc140000gn/T/ipykernel_34880/1126366453.py:28: UserWarning: Pandas requires version '1.4.3' or newer of 'xlsxwriter' (version '1.3.8' currently installed).\n",
      "  result_df.to_excel('./testt.xlsx', index = False)\n"
     ]
    },
    {
     "name": "stdout",
     "output_type": "stream",
     "text": [
      "2 300 100\n"
     ]
    },
    {
     "name": "stderr",
     "output_type": "stream",
     "text": [
      "/var/folders/68/t3g8pbgd4f56sf_dcgl_pc140000gn/T/ipykernel_34880/1126366453.py:28: UserWarning: Pandas requires version '1.4.3' or newer of 'xlsxwriter' (version '1.3.8' currently installed).\n",
      "  result_df.to_excel('./testt.xlsx', index = False)\n"
     ]
    }
   ],
   "source": [
    "result_df = pd.DataFrame(columns = ['order_cnt', 'random_order_cnt', 'exper_id', 'alg_cost', 'opt_cost',  'alg_time', 'opt_time', 'gap'])\n",
    "\n",
    "init_order_cnt=100\n",
    "exper_cnt = 3\n",
    "order_cnt = 100\n",
    "exp_random_order_cnt=100\n",
    "random_order_cnt=100\n",
    "\n",
    "exp_c, exp_relocation_time, exp_df_sampled, exp_chain, exp_cost, exp_alg_time=phase_1_sampling(init_order_cnt,exper_cnt)\n",
    "\n",
    "for i in range(3):\n",
    "    for exper_id in range(exper_cnt):\n",
    "        print(exper_id, order_cnt, random_order_cnt)\n",
    "        alg_cost, opt_cost, alg_time, opt_time, exp_c[exper_id], exp_relocation_time[exper_id], exp_df_sampled[exper_id], exp_chain[exper_id], exp_cost[exper_id], exp_alg_time[exper_id] = run_an_experiment(order_cnt, exp_random_order_cnt, exp_c[exper_id], exp_relocation_time[exper_id], exp_df_sampled[exper_id], exp_chain[exper_id], exp_cost[exper_id], exp_alg_time[exper_id])\n",
    "        \n",
    "        result_df.loc[len(result_df)] = {\n",
    "            'order_cnt': init_order_cnt,\n",
    "            'random_order_cnt': (i+1)*exp_random_order_cnt,\n",
    "            'exper_id': exper_id,\n",
    "            'alg_cost': alg_cost,\n",
    "            'opt_cost': opt_cost,\n",
    "            'alg_time': alg_time,\n",
    "            'opt_time': opt_time,\n",
    "            'gap': -1*(alg_cost-opt_cost)/opt_cost\n",
    "        }\n",
    "        \n",
    "        result_df.to_excel('./testt.xlsx', index = False)\n",
    "    order_cnt+=exp_random_order_cnt"
   ]
  },
  {
   "cell_type": "code",
   "execution_count": 58,
   "id": "6fa85575",
   "metadata": {},
   "outputs": [
    {
     "name": "stderr",
     "output_type": "stream",
     "text": [
      "/var/folders/68/t3g8pbgd4f56sf_dcgl_pc140000gn/T/ipykernel_34880/1121800300.py:6: UserWarning: Pandas requires version '1.4.3' or newer of 'xlsxwriter' (version '1.3.8' currently installed).\n",
      "  df_summary_result.to_excel('./summary_stat.xlsx', index = False)\n"
     ]
    }
   ],
   "source": [
    "gap_mean=result_df.groupby(['random_order_cnt'])['gap'].mean()\n",
    "alg_time_mean=result_df.groupby(['random_order_cnt'])['alg_time'].mean()\n",
    "opt_time_mean=result_df.groupby(['random_order_cnt'])['opt_time'].mean()\n",
    "\n",
    "df_summary_result = pd.DataFrame({'gap_mean': gap_mean, 'alg_time_mean': alg_time_mean, 'opt_time_mean': opt_time_mean})\n",
    "df_summary_result.to_excel('./summary_stat.xlsx', index = False)\n"
   ]
  },
  {
   "cell_type": "code",
   "execution_count": null,
   "id": "20796097-6582-4a62-9737-cde919ed7dd3",
   "metadata": {},
   "outputs": [],
   "source": []
  }
 ],
 "metadata": {
  "kernelspec": {
   "display_name": "Python 3 (ipykernel)",
   "language": "python",
   "name": "python3"
  },
  "language_info": {
   "codemirror_mode": {
    "name": "ipython",
    "version": 3
   },
   "file_extension": ".py",
   "mimetype": "text/x-python",
   "name": "python",
   "nbconvert_exporter": "python",
   "pygments_lexer": "ipython3",
   "version": "3.9.6"
  }
 },
 "nbformat": 4,
 "nbformat_minor": 5
}
